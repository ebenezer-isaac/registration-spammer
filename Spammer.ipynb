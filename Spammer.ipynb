{
 "cells": [
  {
   "cell_type": "code",
   "execution_count": 62,
   "metadata": {},
   "outputs": [],
   "source": [
    "import random\n",
    "f = open('C:/Users/ebene/Desktop/fakeregister/name.txt', 'r')\n",
    "fname = f.readlines()\n",
    "f.close()\n",
    "fname = fname[0].split(\",\")\n",
    "f = open('C:/Users/ebene/Desktop/fakeregister/surname.txt', 'r')\n",
    "sname = f.readlines()\n",
    "f.close()\n",
    "sname = sname[0].split(\",\")\n",
    "f = open('C:/Users/ebene/Desktop/fakeregister/baap.txt', 'r')\n",
    "lname = f.readlines()\n",
    "f.close()\n",
    "lname = lname[0].split(\",\")\n",
    "f = open('C:/Users/ebene/Desktop/fakeregister/phone.txt', 'r')\n",
    "phone = f.readlines()\n",
    "f.close()\n",
    "phone = phone[0].split(\",\")\n",
    "bhai = [\"\",\"bhai\"]\n",
    "levels= [\"school\",\"college\"]\n",
    "events = [\"COP\",\"JC\",\"PA\",\"VWN\",\"WDN\",\"EP\",\"MF\",\"TKT\",\"VWP\"]\n",
    "suffixes=['97','98','99','1999','1998','2000','2001','2002','2003','2004','cool']\n",
    "domains=['@gmail.com','@yahoo.com','@hotmail.com','@gmail.com']\n",
    "schools = ['Delhi Public School','Rosary High School','New Era Senior Secondary School','Navrachna Internaltional School','Bharatiya Vidhya Bhavans School','Kendriya Vidyalaya EME','Kendriya Vidyalaya ONGC']\n",
    "colleges = ['Maharaja Sayajirao University of Baroda','MSU','Navrachna University','Parul University','ITM University','KJ Institute of Technology','Babariya Institute of Technology','Baroda Institute of Technology','IIIT Vadodara']\n",
    "flength=len(fname)-1\n",
    "slength=len(sname)-1\n",
    "llength=len(lname)-1\n",
    "blength=len(bhai)-1\n",
    "plength=len(phone)-1\n"
   ]
  },
  {
   "cell_type": "code",
   "execution_count": 68,
   "metadata": {},
   "outputs": [
    {
     "name": "stdout",
     "output_type": "stream",
     "text": [
      "6\n",
      "https://msu-cyberia.com/RegistrationHandler?first_name=Dipak&middle_name=Thakkar&last_name=Sanjeevbhai&mobno=9655564085&email=dipakthakkar1998@gmail.com&level=college&event=WDN&institute=Baroda%20Institute%20of%20Technology\n",
      "b''\n",
      "https://msu-cyberia.com/RegistrationHandler?first_name=Dipak&middle_name=Thakkar&last_name=Sanjeevbhai&mobno=9655564085&email=dipakthakkar1998@gmail.com&level=college&event=EP&institute=Baroda%20Institute%20of%20Technology\n",
      "b\"<!DOCTYPE html><html lang='en'><head><meta charset='utf-8'><meta name='viewport' content='width=device-width, initial-scale=1'><link rel='stylesheet' href='https://maxcdn.bootstrapcdn.com/bootstrap/3.4.0/css/bootstrap.min.css'><script src='https://ajax.googleapis.com/ajax/libs/jquery/3.4.1/jquery.min.js'></script><script src='https://maxcdn.bootstrapcdn.com/bootstrap/3.4.0/js/bootstrap.min.js'></script><script src='teamMembers.js'></script><style>body{background-image:url('img/reciept_background.jpg');background-repeat: no-repeat; background-size: cover; }.container{padding: 10px 10px 15px 10px;width: 600px;background-color: #333333d4; border: 1px solid; margin-top: 10%; border-radius: 10px; box-shadow: 0px 0px 12px 2px #272727;}}h2 { font-size:35px; font-family:Candara; color:white;}@media only screen and (max-width: 1020px) {body{height:100vh;width:100vh;padding-top: 10vh}.container{margin: 30px;padding: 10px;width: min-content;}}</style></head><body style='background-color:black;color:white;'>\\n<div> <div class='container' id='main'>\\n<p>Congratulations, You are successfully registered for the event Extempore.</p>\\n<h1>Registration Details</h1>\\n<table>\\n<tr>\\n<td>\\nRegistration ID:\\n</td>\\n<td>\\nEP20191042\\n</td>\\n</tr>\\n<tr>\\n<td>\\nName: \\n</td>\\n<td>\\nDipak Thakkar Sanjeevbhai\\n</td>\\n</tr>\\n<tr>\\n<td>\\nEmail Address:\\n</td>\\n<td>\\ndipakthakkar1998@gmail.com\\n</td>\\n</tr>\\n<tr>\\n<td>\\nMobile Number:\\n</td>\\n<td>\\n9655564085\\n</td>\\n</tr>\\n<tr>\\n<td>\\nInstitue/School:\\n</td>\\n<td>\\nBaroda Institute of Technology\\n</td>\\n</tr>\\n<tr>\\n<td>\\nEvent:\\n</td>\\n<td>\\nExtempore\\n</td>\\n</tr>\\n<tr>\\n<td>\\nLevel: \\n</td>\\n<td>\\ncollege\\n</td>\\n</tr>\\n<tr>\\n<td>\\nPrice:\\n</td>\\n<td>\\nRs. 100\\n</td>\\n</tr>\\n</table>\\n<p>You have to pay Rs.100 after 10th November 2019 before the event at our registration desk (BCA Building,Faculty of science,Maharaja Sayaji Rao University).</p>\\n<p>Event's timings and other details will be sent to your email @dipakthakkar1998@gmail.com.</p>\\n<p style='color:red;'>Your registration id is:EP20191042<br/>Please keep a screenshot of this page or registration id with you, whenever you come for the event.</p>\\n</body>\\n</html>\\n\"\n",
      "https://msu-cyberia.com/RegistrationHandler?first_name=Dipak&middle_name=Thakkar&last_name=Sanjeevbhai&mobno=9655564085&email=dipakthakkar1998@gmail.com&level=college&event=JC&institute=Baroda%20Institute%20of%20Technology\n",
      "b\"<!DOCTYPE html><html lang='en'><head><meta charset='utf-8'><meta name='viewport' content='width=device-width, initial-scale=1'><link rel='stylesheet' href='https://maxcdn.bootstrapcdn.com/bootstrap/3.4.0/css/bootstrap.min.css'><script src='https://ajax.googleapis.com/ajax/libs/jquery/3.4.1/jquery.min.js'></script><script src='https://maxcdn.bootstrapcdn.com/bootstrap/3.4.0/js/bootstrap.min.js'></script><script src='teamMembers.js'></script><style>body{background-image:url('img/reciept_background.jpg');background-repeat: no-repeat; background-size: cover; }.container{padding: 10px 10px 15px 10px;width: 600px;background-color: #333333d4; border: 1px solid; margin-top: 10%; border-radius: 10px; box-shadow: 0px 0px 12px 2px #272727;}}h2 { font-size:35px; font-family:Candara; color:white;}@media only screen and (max-width: 1020px) {body{height:100vh;width:100vh;padding-top: 10vh}.container{margin: 30px;padding: 10px;width: min-content;}}</style></head><body style='background-color:black;color:white;'>\\n<div> <div class='container' id='main'>\\n<p>Congratulations, You are successfully registered for the event Jumbled Coding.</p>\\n<h1>Registration Details</h1>\\n<table>\\n<tr>\\n<td>\\nRegistration ID:\\n</td>\\n<td>\\nJC20191042\\n</td>\\n</tr>\\n<tr>\\n<td>\\nName: \\n</td>\\n<td>\\nDipak Thakkar Sanjeevbhai\\n</td>\\n</tr>\\n<tr>\\n<td>\\nEmail Address:\\n</td>\\n<td>\\ndipakthakkar1998@gmail.com\\n</td>\\n</tr>\\n<tr>\\n<td>\\nMobile Number:\\n</td>\\n<td>\\n9655564085\\n</td>\\n</tr>\\n<tr>\\n<td>\\nInstitue/School:\\n</td>\\n<td>\\nBaroda Institute of Technology\\n</td>\\n</tr>\\n<tr>\\n<td>\\nEvent:\\n</td>\\n<td>\\nJumbled Coding\\n</td>\\n</tr>\\n<tr>\\n<td>\\nLevel: \\n</td>\\n<td>\\ncollege\\n</td>\\n</tr>\\n<tr>\\n<td>\\nPrice:\\n</td>\\n<td>\\nRs. 50\\n</td>\\n</tr>\\n</table>\\n<p>You have to pay Rs.50 after 10th November 2019 before the event at our registration desk (BCA Building,Faculty of science,Maharaja Sayaji Rao University).</p>\\n<p>Event's timings and other details will be sent to your email @dipakthakkar1998@gmail.com.</p>\\n<p style='color:red;'>Your registration id is:JC20191042<br/>Please keep a screenshot of this page or registration id with you, whenever you come for the event.</p>\\n</body>\\n</html>\\n\"\n",
      "https://msu-cyberia.com/RegistrationHandler?first_name=Dipak&middle_name=Thakkar&last_name=Sanjeevbhai&mobno=9655564085&email=dipakthakkar1998@gmail.com&level=college&event=VWN&institute=Baroda%20Institute%20of%20Technology\n",
      "b\"<!DOCTYPE html><html lang='en'><head><meta charset='utf-8'><meta name='viewport' content='width=device-width, initial-scale=1'><link rel='stylesheet' href='https://maxcdn.bootstrapcdn.com/bootstrap/3.4.0/css/bootstrap.min.css'><script src='https://ajax.googleapis.com/ajax/libs/jquery/3.4.1/jquery.min.js'></script><script src='https://maxcdn.bootstrapcdn.com/bootstrap/3.4.0/js/bootstrap.min.js'></script><script src='teamMembers.js'></script><style>body{background-image:url('img/reciept_background.jpg');background-repeat: no-repeat; background-size: cover; }.container{padding: 10px 10px 15px 10px;width: 600px;background-color: #333333d4; border: 1px solid; margin-top: 10%; border-radius: 10px; box-shadow: 0px 0px 12px 2px #272727;}}h2 { font-size:35px; font-family:Candara; color:white;}@media only screen and (max-width: 1020px) {body{height:100vh;width:100vh;padding-top: 10vh}.container{margin: 30px;padding: 10px;width: min-content;}}</style></head><body style='background-color:black;color:white;'>\\n<div> <div class='container' id='main'>\\n<p>Congratulations, You are successfully registered for the event Virtual War: Need For Speed.</p>\\n<h1>Registration Details</h1>\\n<table>\\n<tr>\\n<td>\\nRegistration ID:\\n</td>\\n<td>\\nVWN20191042\\n</td>\\n</tr>\\n<tr>\\n<td>\\nName: \\n</td>\\n<td>\\nDipak Thakkar Sanjeevbhai\\n</td>\\n</tr>\\n<tr>\\n<td>\\nEmail Address:\\n</td>\\n<td>\\ndipakthakkar1998@gmail.com\\n</td>\\n</tr>\\n<tr>\\n<td>\\nMobile Number:\\n</td>\\n<td>\\n9655564085\\n</td>\\n</tr>\\n<tr>\\n<td>\\nInstitue/School:\\n</td>\\n<td>\\nBaroda Institute of Technology\\n</td>\\n</tr>\\n<tr>\\n<td>\\nEvent:\\n</td>\\n<td>\\nVirtual War: Need For Speed\\n</td>\\n</tr>\\n<tr>\\n<td>\\nLevel: \\n</td>\\n<td>\\ncollege\\n</td>\\n</tr>\\n<tr>\\n<td>\\nPrice:\\n</td>\\n<td>\\nRs. 50\\n</td>\\n</tr>\\n</table>\\n<p>You have to pay Rs.50 after 10th November 2019 before the event at our registration desk (BCA Building,Faculty of science,Maharaja Sayaji Rao University).</p>\\n<p>Event's timings and other details will be sent to your email @dipakthakkar1998@gmail.com.</p>\\n<p style='color:red;'>Your registration id is:VWN20191042<br/>Please keep a screenshot of this page or registration id with you, whenever you come for the event.</p>\\n</body>\\n</html>\\n\"\n",
      "https://msu-cyberia.com/RegistrationHandler?first_name=Dipak&middle_name=Thakkar&last_name=Sanjeevbhai&mobno=9655564085&email=dipakthakkar1998@gmail.com&level=college&event=PA&institute=Baroda%20Institute%20of%20Technology\n",
      "b\"<!DOCTYPE html><html lang='en'><head><meta charset='utf-8'><meta name='viewport' content='width=device-width, initial-scale=1'><link rel='stylesheet' href='https://maxcdn.bootstrapcdn.com/bootstrap/3.4.0/css/bootstrap.min.css'><script src='https://ajax.googleapis.com/ajax/libs/jquery/3.4.1/jquery.min.js'></script><script src='https://maxcdn.bootstrapcdn.com/bootstrap/3.4.0/js/bootstrap.min.js'></script><script src='teamMembers.js'></script><style>body{background-image:url('img/reciept_background.jpg');background-repeat: no-repeat; background-size: cover; }.container{padding: 10px 10px 15px 10px;width: 600px;background-color: #333333d4; border: 1px solid; margin-top: 10%; border-radius: 10px; box-shadow: 0px 0px 12px 2px #272727;}}h2 { font-size:35px; font-family:Candara; color:white;}@media only screen and (max-width: 1020px) {body{height:100vh;width:100vh;padding-top: 10vh}.container{margin: 30px;padding: 10px;width: min-content;}}</style></head><body style='background-color:black;color:white;'>\\n<div> <div class='container' id='main'>\\n<p>Congratulations, You are successfully registered for the event Pixel Art.</p>\\n<h1>Registration Details</h1>\\n<table>\\n<tr>\\n<td>\\nRegistration ID:\\n</td>\\n<td>\\nPA20191042\\n</td>\\n</tr>\\n<tr>\\n<td>\\nName: \\n</td>\\n<td>\\nDipak Thakkar Sanjeevbhai\\n</td>\\n</tr>\\n<tr>\\n<td>\\nEmail Address:\\n</td>\\n<td>\\ndipakthakkar1998@gmail.com\\n</td>\\n</tr>\\n<tr>\\n<td>\\nMobile Number:\\n</td>\\n<td>\\n9655564085\\n</td>\\n</tr>\\n<tr>\\n<td>\\nInstitue/School:\\n</td>\\n<td>\\nBaroda Institute of Technology\\n</td>\\n</tr>\\n<tr>\\n<td>\\nEvent:\\n</td>\\n<td>\\nPixel Art\\n</td>\\n</tr>\\n<tr>\\n<td>\\nLevel: \\n</td>\\n<td>\\ncollege\\n</td>\\n</tr>\\n<tr>\\n<td>\\nPrice:\\n</td>\\n<td>\\nRs. 100\\n</td>\\n</tr>\\n</table>\\n<p>You have to pay Rs.100 after 10th November 2019 before the event at our registration desk (BCA Building,Faculty of science,Maharaja Sayaji Rao University).</p>\\n<p>Event's timings and other details will be sent to your email @dipakthakkar1998@gmail.com.</p>\\n<p style='color:red;'>Your registration id is:PA20191042<br/>Please keep a screenshot of this page or registration id with you, whenever you come for the event.</p>\\n</body>\\n</html>\\n\"\n",
      "https://msu-cyberia.com/RegistrationHandler?first_name=Dipak&middle_name=Thakkar&last_name=Sanjeevbhai&mobno=9655564085&email=dipakthakkar1998@gmail.com&level=college&event=MF&institute=Baroda%20Institute%20of%20Technology\n",
      "b\"<!DOCTYPE html><html lang='en'><head><meta charset='utf-8'><meta name='viewport' content='width=device-width, initial-scale=1'><link rel='stylesheet' href='https://maxcdn.bootstrapcdn.com/bootstrap/3.4.0/css/bootstrap.min.css'><script src='https://ajax.googleapis.com/ajax/libs/jquery/3.4.1/jquery.min.js'></script><script src='https://maxcdn.bootstrapcdn.com/bootstrap/3.4.0/js/bootstrap.min.js'></script><script src='teamMembers.js'></script><style>body{background-image:url('img/reciept_background.jpg');background-repeat: no-repeat; background-size: cover; }.container{padding: 10px 10px 15px 10px;width: 600px;background-color: #333333d4; border: 1px solid; margin-top: 10%; border-radius: 10px; box-shadow: 0px 0px 12px 2px #272727;}}h2 { font-size:35px; font-family:Candara; color:white;}@media only screen and (max-width: 1020px) {body{height:100vh;width:100vh;padding-top: 10vh}.container{margin: 30px;padding: 10px;width: min-content;}}</style></head><body style='background-color:black;color:white;'>\\n<div> <div class='container' id='main'>\\n<p>Congratulations, You are successfully registered for the event Magnum Focus.</p>\\n<h1>Registration Details</h1>\\n<table>\\n<tr>\\n<td>\\nRegistration ID:\\n</td>\\n<td>\\nMF20191042\\n</td>\\n</tr>\\n<tr>\\n<td>\\nName: \\n</td>\\n<td>\\nDipak Thakkar Sanjeevbhai\\n</td>\\n</tr>\\n<tr>\\n<td>\\nEmail Address:\\n</td>\\n<td>\\ndipakthakkar1998@gmail.com\\n</td>\\n</tr>\\n<tr>\\n<td>\\nMobile Number:\\n</td>\\n<td>\\n9655564085\\n</td>\\n</tr>\\n<tr>\\n<td>\\nInstitue/School:\\n</td>\\n<td>\\nBaroda Institute of Technology\\n</td>\\n</tr>\\n<tr>\\n<td>\\nEvent:\\n</td>\\n<td>\\nMagnum Focus\\n</td>\\n</tr>\\n<tr>\\n<td>\\nLevel: \\n</td>\\n<td>\\ncollege\\n</td>\\n</tr>\\n<tr>\\n<td>\\nPrice:\\n</td>\\n<td>\\nRs. 50\\n</td>\\n</tr>\\n</table>\\n<p>You have to pay Rs.50 after 10th November 2019 before the event at our registration desk (BCA Building,Faculty of science,Maharaja Sayaji Rao University).</p>\\n<p>Event's timings and other details will be sent to your email @dipakthakkar1998@gmail.com.</p>\\n<p style='color:red;'>Your registration id is:MF20191042<br/>Please keep a screenshot of this page or registration id with you, whenever you come for the event.</p>\\n</body>\\n</html>\\n\"\n"
     ]
    }
   ],
   "source": [
    "import urllib.request \n",
    "i = 0\n",
    "while i<1:\n",
    "    first_name=fname[random.randint(0,flength)]\n",
    "    middle_name=sname[random.randint(0,slength)]\n",
    "    last_name=lname[random.randint(0,llength)]+bhai[random.randint(0,blength)]\n",
    "    mobno=phone[random.randint(0,plength)]\n",
    "    levelint = (randint(0,1))\n",
    "    level = levels[levelint]\n",
    "    institute = ''\n",
    "    suffix = ''\n",
    "    if levelint == 1:\n",
    "        institute = colleges[(randint(0,len(colleges)-1))].replace(\" \", \"%20\")\n",
    "        suffix=suffixes[(randint(0,5))]\n",
    "    elif levelint ==0:\n",
    "        institute = schools[(randint(0,len(schools)-1))].replace(\" \", \"%20\")\n",
    "        suffix=suffixes[(randint(6,len(suffixes)-1))]\n",
    "    email = (first_name +middle_name+ suffix+domains[(randint(0,len(domains)-1))]).lower()\n",
    "    no_of_event = randint(2,len(events)-3)\n",
    "    event = []\n",
    "    eventint = []\n",
    "    print(no_of_event)\n",
    "    while len(eventint)<no_of_event:\n",
    "        randeve = randint(0,len(events)-1)\n",
    "        if randeve in eventint:\n",
    "            pass\n",
    "        else:\n",
    "            eventint.append(randeve)\n",
    "            event.append(events[randeve])\n",
    "            url = (\"https://msu-cyberia.com/RegistrationHandler?first_name=\"+first_name+\"&middle_name=\"+middle_name+\"&last_name=\"+last_name+\"&mobno=\"+mobno+\"&email=\"+email+\"&level=\"+level+\"&event=\"+events[randeve]+\"&institute=\"+institute)\n",
    "            print (url)\n",
    "            #data = urllib.request.urlopen(url)\n",
    "            #print(data.read())\n",
    "    i=i+1\n"
   ]
  }
 ],
 "metadata": {
  "kernelspec": {
   "display_name": "Python 3",
   "language": "python",
   "name": "python3"
  },
  "language_info": {
   "codemirror_mode": {
    "name": "ipython",
    "version": 3
   },
   "file_extension": ".py",
   "mimetype": "text/x-python",
   "name": "python",
   "nbconvert_exporter": "python",
   "pygments_lexer": "ipython3",
   "version": "3.7.3"
  }
 },
 "nbformat": 4,
 "nbformat_minor": 2
}
